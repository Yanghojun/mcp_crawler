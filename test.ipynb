{
 "cells": [
  {
   "cell_type": "code",
   "execution_count": 2,
   "id": "e4202c92",
   "metadata": {},
   "outputs": [
    {
     "name": "stdout",
     "output_type": "stream",
     "text": [
      "작업 시작\n",
      "작업 끝\n"
     ]
    }
   ],
   "source": [
    "import asyncio\n",
    "\n",
    "async def task():\n",
    "    print(\"작업 시작\")\n",
    "    await asyncio.sleep(2)\n",
    "    print(\"작업 끝\")\n",
    "\n",
    "# asyncio.run(task())\n",
    "await task()"
   ]
  },
  {
   "cell_type": "code",
   "execution_count": 3,
   "id": "3c411ca0",
   "metadata": {},
   "outputs": [
    {
     "name": "stdout",
     "output_type": "stream",
     "text": [
      "A 시작\n",
      "A 끝\n",
      "B 시작\n",
      "B 끝\n",
      "C 시작\n",
      "C 끝\n"
     ]
    }
   ],
   "source": [
    "import asyncio\n",
    "\n",
    "async def work(name):\n",
    "    print(f\"{name} 시작\")\n",
    "    await asyncio.sleep(1)\n",
    "    print(f\"{name} 끝\")\n",
    "\n",
    "async def main():\n",
    "    await work(\"A\")\n",
    "    await work(\"B\")\n",
    "    await work(\"C\")\n",
    "\n",
    "await main()\n",
    "# asyncio.run(main())"
   ]
  },
  {
   "cell_type": "code",
   "execution_count": 4,
   "id": "7a88d3ca",
   "metadata": {},
   "outputs": [
    {
     "name": "stdout",
     "output_type": "stream",
     "text": [
      "A 시작\n",
      "B 시작\n",
      "C 시작\n",
      "A 끝\n",
      "B 끝\n",
      "C 끝\n"
     ]
    }
   ],
   "source": [
    "import asyncio\n",
    "\n",
    "async def work(name):\n",
    "    print(f\"{name} 시작\")\n",
    "    await asyncio.sleep(1)\n",
    "    print(f\"{name} 끝\")\n",
    "\n",
    "async def main():\n",
    "    tasks = [work(\"A\"), work(\"B\"), work(\"C\")]\n",
    "    await asyncio.gather(\n",
    "        *tasks\n",
    "    )\n",
    "\n",
    "await main()\n",
    "# asyncio.run(main())"
   ]
  }
 ],
 "metadata": {
  "kernelspec": {
   "display_name": "py3.9_torch2.2",
   "language": "python",
   "name": "python3"
  },
  "language_info": {
   "codemirror_mode": {
    "name": "ipython",
    "version": 3
   },
   "file_extension": ".py",
   "mimetype": "text/x-python",
   "name": "python",
   "nbconvert_exporter": "python",
   "pygments_lexer": "ipython3",
   "version": "3.9.21"
  }
 },
 "nbformat": 4,
 "nbformat_minor": 5
}
